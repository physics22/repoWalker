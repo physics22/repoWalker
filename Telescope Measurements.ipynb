{
 "cells": [
  {
   "cell_type": "code",
   "execution_count": 1,
   "metadata": {
    "collapsed": false
   },
   "outputs": [
    {
     "name": "stdout",
     "output_type": "stream",
     "text": [
      "Using matplotlib backend: Qt4Agg\n",
      "Populating the interactive namespace from numpy and matplotlib\n"
     ]
    }
   ],
   "source": [
    "%pylab "
   ]
  },
  {
   "cell_type": "code",
   "execution_count": 26,
   "metadata": {
    "collapsed": false
   },
   "outputs": [
    {
     "data": {
      "text/plain": [
       "(3.5, 1.7170731707317077)"
      ]
     },
     "execution_count": 26,
     "metadata": {},
     "output_type": "execute_result"
    }
   ],
   "source": [
    "# 3/16 11:43 PM to 3/17 12:52 AM\n",
    "background = [405, 410, 424]\n",
    "backavg = average(background)\n",
    "backstd = std(background)\n",
    "\n",
    "alphaPer = [638,624,632]\n",
    "alphaavg = average(alphaPer-backavg)\n",
    "alphastd = std(alphaPer) - backstd\n",
    "\n",
    "beta = array([583,594,597,583,575,585,579,603,596,595,583,573,608,592,615,618,598])\n",
    "betaPer = beta-backavg\n",
    "time1 = linspace(0,1,len(beta))\n",
    "\n",
    "beta2 = array([600,619,635,603,607,599,609,636,600,596,595,598,643,597,596,602,594,591,591,591,599,595,608,590,589,588,602,584,583,578,577,578,593,611,577,596,583,578,577,573,573,570,571,572,570,571,570])\n",
    "betaPer2 = beta2-backavg\n",
    "time2 = linspace(21.5, 22.5, len(beta2))\n",
    "\n",
    "ratio = alphaavg/betaPer\n",
    "magnitude = ratio*1.8\n",
    "\n",
    "ratio2 = alphaavg/betaPer2\n",
    "magnitude2 = ratio2*1.8\n",
    "\n",
    "#plot(time1, magnitude, '.', time2, magnitude2, '.')\n",
    "#ylim(3.5, min(magnitude) - .2)\n",
    "plot(magnitude, '.')\n",
    "ylim(3.5, min(magnitude) - .2)\n",
    "plot(magnitude2, '.')\n",
    "ylim(3.5, min())"
   ]
  },
  {
   "cell_type": "code",
   "execution_count": null,
   "metadata": {
    "collapsed": true
   },
   "outputs": [],
   "source": []
  }
 ],
 "metadata": {
  "kernelspec": {
   "display_name": "Python 3",
   "language": "python",
   "name": "python3"
  },
  "language_info": {
   "codemirror_mode": {
    "name": "ipython",
    "version": 3
   },
   "file_extension": ".py",
   "mimetype": "text/x-python",
   "name": "python",
   "nbconvert_exporter": "python",
   "pygments_lexer": "ipython3",
   "version": "3.5.1"
  }
 },
 "nbformat": 4,
 "nbformat_minor": 0
}
