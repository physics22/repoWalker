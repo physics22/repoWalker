{
 "cells": [
  {
   "cell_type": "code",
   "execution_count": 1,
   "metadata": {
    "collapsed": false
   },
   "outputs": [
    {
     "name": "stdout",
     "output_type": "stream",
     "text": [
      "Using matplotlib backend: Qt4Agg\n",
      "Populating the interactive namespace from numpy and matplotlib\n"
     ]
    }
   ],
   "source": [
    "%pylab "
   ]
  },
  {
   "cell_type": "code",
   "execution_count": 43,
   "metadata": {
    "collapsed": false
   },
   "outputs": [
    {
     "data": {
      "text/plain": [
       "(4, 2)"
      ]
     },
     "execution_count": 43,
     "metadata": {},
     "output_type": "execute_result"
    }
   ],
   "source": [
    "# 3/16 11:43 PM to 3/17 12:52 AM\n",
    "background = [405, 410, 448, 424]\n",
    "backavg = average(background)\n",
    "backstd = std(background)\n",
    "\n",
    "alphaPer = [653, 658, 687, 684, 664, 708, 705, 696]\n",
    "alphaavg = average(alphaPer) - backavg\n",
    "alphastd = std(alphaPer) - backstd\n",
    "\n",
    "betaPer = array([583, 594, 507, 483, 469, 528, 583, 520, 558, 533, 470, 560, 575, 530, 556, 564, 564, 585, 513, 548, 579, 603, 596, 595, 583, 573, 505, 568, 601, 554, 569, 608, 592, 615, 618, 598])\n",
    "betaPers = []\n",
    "for i in range(len(betaPer)):\n",
    "    if betaPer[i] > 550:\n",
    "        betaPers.append(betaPer[i] - backavg)\n",
    "\n",
    "\n",
    "ratio = alphaavg/betaPers\n",
    "magnitude = ratio * 1.8\n",
    "\n",
    "magnitude \n",
    "plot(magnitude, 'o')\n",
    "ylim(4,2)"
   ]
  },
  {
   "cell_type": "code",
   "execution_count": null,
   "metadata": {
    "collapsed": true
   },
   "outputs": [],
   "source": []
  },
  {
   "cell_type": "markdown",
   "metadata": {},
   "source": []
  },
  {
   "cell_type": "code",
   "execution_count": null,
   "metadata": {
    "collapsed": true
   },
   "outputs": [],
   "source": []
  }
 ],
 "metadata": {
  "kernelspec": {
   "display_name": "Python 3",
   "language": "python",
   "name": "python3"
  },
  "language_info": {
   "codemirror_mode": {
    "name": "ipython",
    "version": 3
   },
   "file_extension": ".py",
   "mimetype": "text/x-python",
   "name": "python",
   "nbconvert_exporter": "python",
   "pygments_lexer": "ipython3",
   "version": "3.5.1"
  }
 },
 "nbformat": 4,
 "nbformat_minor": 0
}
