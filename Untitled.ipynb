{
 "cells": [
  {
   "cell_type": "code",
   "execution_count": 2,
   "metadata": {
    "collapsed": false,
    "scrolled": true
   },
   "outputs": [
    {
     "name": "stdout",
     "output_type": "stream",
     "text": [
      "Using matplotlib backend: Qt4Agg\n",
      "Populating the interactive namespace from numpy and matplotlib\n"
     ]
    }
   ],
   "source": [
    "%pylab "
   ]
  },
  {
   "cell_type": "code",
   "execution_count": 18,
   "metadata": {
    "collapsed": false
   },
   "outputs": [
    {
     "data": {
      "text/plain": [
       "(4.33, 3.5)"
      ]
     },
     "execution_count": 18,
     "metadata": {},
     "output_type": "execute_result"
    }
   ],
   "source": [
    "deltaCeph = [4.1,4.33,3.77,3.9,3.5,3.8,4.2,3.96,3.56,3.83,3.7,4.1,3.9]\n",
    "time = [0.0, 22,94.5,118.75,189.25,212.25,284.5,305.75,308.25,330.25,332.25,354.75,357]\n",
    "\n",
    "plot(time, deltaCeph,'.')\n",
    "ylim(max(deltaCeph), min(deltaCeph))"
   ]
  },
  {
   "cell_type": "code",
   "execution_count": 36,
   "metadata": {
    "collapsed": false
   },
   "outputs": [
    {
     "data": {
      "text/plain": [
       "<matplotlib.text.Text at 0x252515e6ef0>"
      ]
     },
     "execution_count": 36,
     "metadata": {},
     "output_type": "execute_result"
    }
   ],
   "source": [
    "betaPersei = [2.1,2.97,2.53,2.06,2.3,2.13,2.77,2.27]\n",
    "minima = [3.4,3.4,3.4]\n",
    "mtime = [17.5, 17.5+68.8, 17.5+(68.8*2)]\n",
    "time1 = [0.0, 72.25, 93.5, 96, 118, 120, 142.5, 144.75]\n",
    "y = betaPersei\n",
    "x = time1\n",
    "\n",
    "plot(mtime, minima, '.')\n",
    "ylim(max(betaPersei) + 1, min(betaPersei) - 1)\n",
    "errorbar(x,y, xerr = 1, yerr = 0.2, fmt='.')\n",
    "ylabel('Magnitude')\n",
    "xlabel('Time (hrs)')\n",
    "title('Algol Transit')"
   ]
  },
  {
   "cell_type": "code",
   "execution_count": null,
   "metadata": {
    "collapsed": true
   },
   "outputs": [],
   "source": []
  }
 ],
 "metadata": {
  "kernelspec": {
   "display_name": "Python 3",
   "language": "python",
   "name": "python3"
  },
  "language_info": {
   "codemirror_mode": {
    "name": "ipython",
    "version": 3
   },
   "file_extension": ".py",
   "mimetype": "text/x-python",
   "name": "python",
   "nbconvert_exporter": "python",
   "pygments_lexer": "ipython3",
   "version": "3.5.1"
  }
 },
 "nbformat": 4,
 "nbformat_minor": 0
}
