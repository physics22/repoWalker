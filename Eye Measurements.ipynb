{
 "cells": [
  {
   "cell_type": "code",
   "execution_count": 2,
   "metadata": {
    "collapsed": false,
    "scrolled": true
   },
   "outputs": [
    {
     "name": "stdout",
     "output_type": "stream",
     "text": [
      "Using matplotlib backend: Qt4Agg\n",
      "Populating the interactive namespace from numpy and matplotlib\n"
     ]
    }
   ],
   "source": [
    "%pylab "
   ]
  },
  {
   "cell_type": "code",
   "execution_count": 5,
   "metadata": {
    "collapsed": false
   },
   "outputs": [],
   "source": [
    "uncer = [array([4.0,4.2,4.1]), array([4.2,4.3,4.1]), array([3.8,3.7,3.7]), array([3.9,3.8,4.0]), array([3.5,3.6,3.5]), array([3.8,3.7,3.9]), array([4.1,4.2,4.3]), array([3.9,4.0,4.0]), array([3.5,3.6,3.6]), array([3.8,3.9,3.8]), array([3.7,3.8,3.6]), array([4.0,4.2,4.1]), array([3.9,3.8,4.0])]\n",
    "stdevi = []\n",
    "for i in range(13):\n",
    "    stdevi.append(std(uncer[i]) + 0.1)\n",
    "    \n",
    "\n",
    "deltaCeph = [4.1,4.23,3.73,4.1,3.5,3.8,4.2,3.96,3.56,3.83,3.7,4.1,3.9]\n",
    "time = [0.0, 22,94.5,108.75,189.25-128.784,212.25-128.784,284.5-(128.784*2),305.75-(128.784*2),308.25-(128.784*2),330.25-(128.784*2),332.25-(128.784*2),354.75-(128.784*2),357-(128.784*2)]\n",
    "xtick1 = [-25.7568,0,25.7568,51.5136,77.2704,103.0272,128.784]\n",
    "\n",
    "for i in range(13):\n",
    "    errorbar(time[i], round(deltaCeph[i], 1), xerr = (1/6), yerr = round(stdevi[i],1), fmt='k.')\n",
    "    ylabel('Magnitude')\n",
    "    xlabel('Phase')\n",
    "    title('Delta Cephei')\n",
    "    xticks(xtick1, [-0.2,0,0.2,0.4,0.6,0.8,1.0])\n",
    "    ylim(max(deltaCeph)+.2, min(deltaCeph)-.2)\n",
    "    #xlim(200,400)"
   ]
  },
  {
   "cell_type": "code",
   "execution_count": 4,
   "metadata": {
    "collapsed": false
   },
   "outputs": [],
   "source": [
    "uncert = [array([2.1,2.2,2.0]),array([3.0,2.8,3.1]),array([2.7,2.5,2.4]), array([2.0,2.2,2.0]),array([2.2,2.3,2.4]),array([1.9,1.9,2.0]),array([2.3,2.2,2.3]),array([2.9,2.7,2.7]), array([2.2,2.2,2.1]), array ([2.0,2.3,2.1]), array([2.2, 2.3, 2.4]), array([2.5,2.4,2.2])]\n",
    "stdev = []\n",
    "for i in range(12):\n",
    "    stdev.append(std(uncert[i])+0.1)\n",
    "    \n",
    "\n",
    "betaPersei = [2.1,2.97,2.53,2.06,2.3,2.13,2.27,2.77,2.17, 2.13, 2.3, 2.37]\n",
    "minima = [3.4]\n",
    "mtime = [17.5]\n",
    "time1 = array([0.0, 79.25-68.8, 93.5-68.8, 96-68.8, 118-68.8, 120-68.8, 142.5-(68.8*2), 144.75-(68.8*2), 174.32-(68.8*2), 178.54-(68.8*2), 195.54-(68.8*2), 198.32-(68.8*2)])\n",
    "y = betaPersei\n",
    "x = time1\n",
    "xtick = [-13.76, 0, 13.76, 27.52, 41.28, 55.04, 68.8]\n",
    "\n",
    "plot(mtime, minima, '.')\n",
    "ylim(max(betaPersei) + .5, min(betaPersei) - .5)\n",
    "for i in range(12):\n",
    "    errorbar(x[i],round(y[i],1), xerr = (1/6), yerr = round(stdev[i], 1), fmt='k.')\n",
    "    ylabel('Magnitude')\n",
    "    xlabel('Phase')\n",
    "    xticks(xtick,[-0.2,0,0.2,0.4,0.6,0.8,1.0])\n",
    "    title('Algol Transit')"
   ]
  },
  {
   "cell_type": "code",
   "execution_count": 63,
   "metadata": {
    "collapsed": true
   },
   "outputs": [],
   "source": [
    "xticks?\n"
   ]
  },
  {
   "cell_type": "code",
   "execution_count": null,
   "metadata": {
    "collapsed": true
   },
   "outputs": [],
   "source": []
  }
 ],
 "metadata": {
  "kernelspec": {
   "display_name": "Python 3",
   "language": "python",
   "name": "python3"
  },
  "language_info": {
   "codemirror_mode": {
    "name": "ipython",
    "version": 3
   },
   "file_extension": ".py",
   "mimetype": "text/x-python",
   "name": "python",
   "nbconvert_exporter": "python",
   "pygments_lexer": "ipython3",
   "version": "3.5.1"
  }
 },
 "nbformat": 4,
 "nbformat_minor": 0
}
