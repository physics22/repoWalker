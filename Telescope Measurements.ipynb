{
 "cells": [
  {
   "cell_type": "code",
   "execution_count": 1,
   "metadata": {
    "collapsed": false
   },
   "outputs": [
    {
     "name": "stdout",
     "output_type": "stream",
     "text": [
      "Using matplotlib backend: Qt4Agg\n",
      "Populating the interactive namespace from numpy and matplotlib\n"
     ]
    }
   ],
   "source": [
    "%pylab "
   ]
  },
  {
   "cell_type": "code",
   "execution_count": 52,
   "metadata": {
    "collapsed": false
   },
   "outputs": [
    {
     "data": {
      "text/plain": [
       "(3.5, 1.7170731707317077)"
      ]
     },
     "execution_count": 52,
     "metadata": {},
     "output_type": "execute_result"
    }
   ],
   "source": [
    "# 3/16 11:43 PM to 3/17 12:52 AM\n",
    "background = [405, 410, 424]\n",
    "backavg = average(background)\n",
    "backstd = std(background)\n",
    "\n",
    "alphaPer = [638,624,632]\n",
    "alphaavg = average(alphaPer-backavg)\n",
    "alphastd = std(alphaPer) - backstd\n",
    "\n",
    "beta = array([591,608,595,594,610,601,592,597,588,591,599,596,595,603,591,597,585,589,596,584,595,610,591,590,613,587,598,610,589,589,597,605,608,591,583,593,595,590,591,594,594,597,580,585,609,601,589,592,599,598,594,596,596,591,615,599,590,592,592,591,592,597,590,587,575,578,588,596,591,594,580,583,588,589,590,581,577,589,591,590,594,590,579,574,581,590,588,579,598,581,576,577,588,596,592,594,583,594,597,583,585,585,579,603,596,595,583,583,608,592,615,618,598])\n",
    "betaPer = beta-backavg\n",
    "time1 = linspace(0,1,len(beta))\n",
    "\n",
    "background2 = [412, 420, 409]\n",
    "backavg2 = average(background2)\n",
    "backstd2 = std(background2)\n",
    "\n",
    "alphaPer2 = [642, 651, 648]\n",
    "alphaavg2 = average(alphaPer2 - backavg2)\n",
    "alphastd2 = std(alphaPer2) - backstd2\n",
    "\n",
    "beta2 = array([600,619,635,603,607,599,609,636,600,596,595,598,643,597,596,602,594,591,591,591,599,595,608,590,589,588,602,584,583,578,577,578,593,611,577,596,583,578,577,573,573,570,571,572,570,571,570])\n",
    "betaPer2 = beta2-backavg2\n",
    "time2 = linspace(21.5, 22.5, len(beta2))\n",
    "\n",
    "ratio = alphaavg/betaPer\n",
    "magnitude = ratio*1.8\n",
    "\n",
    "ratio2 = alphaavg2/betaPer2\n",
    "magnitude2 = ratio2*1.8\n",
    "\n",
    "#plot(time1/68.8, magnitude, '.', time2/68.8, magnitude2, '.')\n",
    "#ylim(3.5, min(magnitude) - .2)\n",
    "#xlim(0,1)\n",
    "figure()\n",
    "plot(time1, magnitude, '.')\n",
    "ylim(3.5, min(magnitude) - .2)\n",
    "figure()\n",
    "plot(time2, magnitude2, '.')\n",
    "ylim(3.5, min(magnitude) - .2)\n",
    "#magnitude"
   ]
  },
  {
   "cell_type": "code",
   "execution_count": null,
   "metadata": {
    "collapsed": true
   },
   "outputs": [],
   "source": []
  }
 ],
 "metadata": {
  "kernelspec": {
   "display_name": "Python 3",
   "language": "python",
   "name": "python3"
  },
  "language_info": {
   "codemirror_mode": {
    "name": "ipython",
    "version": 3
   },
   "file_extension": ".py",
   "mimetype": "text/x-python",
   "name": "python",
   "nbconvert_exporter": "python",
   "pygments_lexer": "ipython3",
   "version": "3.5.1"
  }
 },
 "nbformat": 4,
 "nbformat_minor": 0
}
